{
 "cells": [
  {
   "cell_type": "code",
   "execution_count": 20,
   "id": "f2bc6527",
   "metadata": {},
   "outputs": [],
   "source": [
    "#importing necessary libraries\n",
    "import pandas as pd\n",
    "import numpy as np\n",
    "from sklearn.metrics import mean_squared_error as mse, r2_score\n",
    "from sklearn.model_selection import train_test_split\n",
    "from sklearn.linear_model import LinearRegression\n"
   ]
  },
  {
   "cell_type": "code",
   "execution_count": 21,
   "id": "96176fa8",
   "metadata": {},
   "outputs": [
    {
     "data": {
      "text/html": [
       "<div>\n",
       "<style scoped>\n",
       "    .dataframe tbody tr th:only-of-type {\n",
       "        vertical-align: middle;\n",
       "    }\n",
       "\n",
       "    .dataframe tbody tr th {\n",
       "        vertical-align: top;\n",
       "    }\n",
       "\n",
       "    .dataframe thead th {\n",
       "        text-align: right;\n",
       "    }\n",
       "</style>\n",
       "<table border=\"1\" class=\"dataframe\">\n",
       "  <thead>\n",
       "    <tr style=\"text-align: right;\">\n",
       "      <th></th>\n",
       "      <th>id</th>\n",
       "      <th>gender</th>\n",
       "      <th>area</th>\n",
       "      <th>qualification</th>\n",
       "      <th>income</th>\n",
       "      <th>marital_status</th>\n",
       "      <th>vintage</th>\n",
       "      <th>claim_amount</th>\n",
       "      <th>num_policies</th>\n",
       "      <th>policy</th>\n",
       "      <th>type_of_policy</th>\n",
       "      <th>cltv</th>\n",
       "    </tr>\n",
       "  </thead>\n",
       "  <tbody>\n",
       "    <tr>\n",
       "      <th>0</th>\n",
       "      <td>1</td>\n",
       "      <td>Male</td>\n",
       "      <td>Urban</td>\n",
       "      <td>Bachelor</td>\n",
       "      <td>5L-10L</td>\n",
       "      <td>1</td>\n",
       "      <td>5</td>\n",
       "      <td>5790</td>\n",
       "      <td>More than 1</td>\n",
       "      <td>A</td>\n",
       "      <td>Platinum</td>\n",
       "      <td>64308</td>\n",
       "    </tr>\n",
       "    <tr>\n",
       "      <th>1</th>\n",
       "      <td>2</td>\n",
       "      <td>Male</td>\n",
       "      <td>Rural</td>\n",
       "      <td>High School</td>\n",
       "      <td>5L-10L</td>\n",
       "      <td>0</td>\n",
       "      <td>8</td>\n",
       "      <td>5080</td>\n",
       "      <td>More than 1</td>\n",
       "      <td>A</td>\n",
       "      <td>Platinum</td>\n",
       "      <td>515400</td>\n",
       "    </tr>\n",
       "    <tr>\n",
       "      <th>2</th>\n",
       "      <td>3</td>\n",
       "      <td>Male</td>\n",
       "      <td>Urban</td>\n",
       "      <td>Bachelor</td>\n",
       "      <td>5L-10L</td>\n",
       "      <td>1</td>\n",
       "      <td>8</td>\n",
       "      <td>2599</td>\n",
       "      <td>More than 1</td>\n",
       "      <td>A</td>\n",
       "      <td>Platinum</td>\n",
       "      <td>64212</td>\n",
       "    </tr>\n",
       "    <tr>\n",
       "      <th>3</th>\n",
       "      <td>4</td>\n",
       "      <td>Female</td>\n",
       "      <td>Rural</td>\n",
       "      <td>High School</td>\n",
       "      <td>5L-10L</td>\n",
       "      <td>0</td>\n",
       "      <td>7</td>\n",
       "      <td>0</td>\n",
       "      <td>More than 1</td>\n",
       "      <td>A</td>\n",
       "      <td>Platinum</td>\n",
       "      <td>97920</td>\n",
       "    </tr>\n",
       "    <tr>\n",
       "      <th>4</th>\n",
       "      <td>5</td>\n",
       "      <td>Male</td>\n",
       "      <td>Urban</td>\n",
       "      <td>High School</td>\n",
       "      <td>More than 10L</td>\n",
       "      <td>1</td>\n",
       "      <td>6</td>\n",
       "      <td>3508</td>\n",
       "      <td>More than 1</td>\n",
       "      <td>A</td>\n",
       "      <td>Gold</td>\n",
       "      <td>59736</td>\n",
       "    </tr>\n",
       "  </tbody>\n",
       "</table>\n",
       "</div>"
      ],
      "text/plain": [
       "   id  gender   area qualification         income  marital_status  vintage  \\\n",
       "0   1    Male  Urban      Bachelor         5L-10L               1        5   \n",
       "1   2    Male  Rural   High School         5L-10L               0        8   \n",
       "2   3    Male  Urban      Bachelor         5L-10L               1        8   \n",
       "3   4  Female  Rural   High School         5L-10L               0        7   \n",
       "4   5    Male  Urban   High School  More than 10L               1        6   \n",
       "\n",
       "   claim_amount num_policies policy type_of_policy    cltv  \n",
       "0          5790  More than 1      A       Platinum   64308  \n",
       "1          5080  More than 1      A       Platinum  515400  \n",
       "2          2599  More than 1      A       Platinum   64212  \n",
       "3             0  More than 1      A       Platinum   97920  \n",
       "4          3508  More than 1      A           Gold   59736  "
      ]
     },
     "execution_count": 21,
     "metadata": {},
     "output_type": "execute_result"
    }
   ],
   "source": [
    "# loading training file\n",
    "df_train = pd.read_csv('train_BRCpofr.csv')\n",
    "df_train.head()"
   ]
  },
  {
   "cell_type": "code",
   "execution_count": 22,
   "id": "dc5a888e",
   "metadata": {},
   "outputs": [],
   "source": [
    "# splitting the dataset into train and test split\n",
    "X_train,X_test,y_train,y_test=train_test_split(df_train.drop('cltv', axis=1),df_train['cltv'],random_state=22, test_size=0.2)"
   ]
  },
  {
   "cell_type": "code",
   "execution_count": 23,
   "id": "8673cadb",
   "metadata": {},
   "outputs": [],
   "source": [
    "# Making a base line prediction taking mean of the training dataset and providing it as prediction for all test cases\n",
    "\n",
    "pred_cltv=np.zeros(y_test.shape[0])\n",
    "pred_cltv.fill(y_train.mean())"
   ]
  },
  {
   "cell_type": "code",
   "execution_count": 24,
   "id": "3ef41fd9",
   "metadata": {},
   "outputs": [
    {
     "data": {
      "text/plain": [
       "8146496381.163936"
      ]
     },
     "execution_count": 24,
     "metadata": {},
     "output_type": "execute_result"
    }
   ],
   "source": [
    "mse(pred_cltv,y_test)"
   ]
  },
  {
   "cell_type": "markdown",
   "id": "3fe296a4",
   "metadata": {},
   "source": [
    "#Baseline MSE Error: 8146496381.16"
   ]
  },
  {
   "cell_type": "code",
   "execution_count": 25,
   "id": "5c6ce573",
   "metadata": {},
   "outputs": [],
   "source": [
    "# Defining a function to check benchmark models perfomance depending on a column\n",
    "def check_by_single_feature(col):\n",
    "    train=pd.concat([X_train,y_train], axis=1)\n",
    "    col_type=pd.pivot_table(train, values='cltv', index = [col], aggfunc=['mean','median','count'])\n",
    "    print(col_type)\n",
    "    \n",
    "    col_type_mean=np.zeros(X_test.shape[0])\n",
    "    col_type_mean=list(map(lambda x:col_type.loc[x][( 'mean', 'cltv')], X_test[col]))\n",
    "    \n",
    "    print('\\n',col,'type Root Mean Squared error: {}\\n'.format(mse(y_test,col_type_mean)**0.5))\n",
    "    \n",
    "    "
   ]
  },
  {
   "cell_type": "code",
   "execution_count": 26,
   "id": "2571221b",
   "metadata": {},
   "outputs": [],
   "source": [
    "cat_cols=['gender', 'area', 'qualification', 'income', 'marital_status',\n",
    "          'vintage', 'num_policies', 'policy', 'type_of_policy']"
   ]
  },
  {
   "cell_type": "code",
   "execution_count": 27,
   "id": "c0cb43c1",
   "metadata": {},
   "outputs": [
    {
     "name": "stdout",
     "output_type": "stream",
     "text": [
      "                mean median  count\n",
      "                cltv   cltv   cltv\n",
      "gender                            \n",
      "Female  98451.456234  67122  31234\n",
      "Male    97631.959483  65772  40279\n",
      "\n",
      " gender type Root Mean Squared error: 90263.48597867311\n",
      "\n",
      "                mean median  count\n",
      "                cltv   cltv   cltv\n",
      "area                              \n",
      "Rural   79735.607713  63888  21627\n",
      "Urban  105903.630117  67548  49886\n",
      "\n",
      " area type Root Mean Squared error: 89425.89211428036\n",
      "\n",
      "                       mean median  count\n",
      "                       cltv   cltv   cltv\n",
      "qualification                            \n",
      "Bachelor       98758.507066  66858  31420\n",
      "High School    99006.560837  66360  37091\n",
      "Others         77383.690873  60636   3002\n",
      "\n",
      " qualification type Root Mean Squared error: 90168.83479786519\n",
      "\n",
      "                        mean median  count\n",
      "                        cltv   cltv   cltv\n",
      "income                                    \n",
      "2L-5L          109628.005626  68262  17064\n",
      "5L-10L          94858.800428  65772  42035\n",
      "<=2L           113349.430917  67428   1462\n",
      "More than 10L   89823.926954  65670  10952\n",
      "\n",
      " income type Root Mean Squared error: 90021.4440373331\n",
      "\n",
      "                         mean median  count\n",
      "                         cltv   cltv   cltv\n",
      "marital_status                             \n",
      "0               106198.492794  68202  30390\n",
      "1                91923.699244  65220  41123\n",
      "\n",
      " marital_status type Root Mean Squared error: 89986.33416197995\n",
      "\n",
      "                  mean median  count\n",
      "                  cltv   cltv   cltv\n",
      "vintage                             \n",
      "0         87367.777914  64038   3260\n",
      "1         92664.234989  64404   6179\n",
      "2         99233.540359  66624   7297\n",
      "3        104136.942797  67524   5664\n",
      "4         98403.493872  66348   8322\n",
      "5         96255.295057  65640  10015\n",
      "6         97539.249280  66108  14237\n",
      "7         98594.686636  66852  10483\n",
      "8        104206.634742  68670   6056\n",
      "\n",
      " vintage type Root Mean Squared error: 90166.5156384334\n",
      "\n",
      "                       mean median  count\n",
      "                       cltv   cltv   cltv\n",
      "num_policies                             \n",
      "1              50908.551919  38532  23402\n",
      "More than 1   120891.034233  77712  48111\n",
      "\n",
      " num_policies type Root Mean Squared error: 84419.98719140305\n",
      "\n",
      "                 mean median  count\n",
      "                 cltv   cltv   cltv\n",
      "policy                             \n",
      "A       100409.356380  66336  45241\n",
      "B        89556.875664  66300  19761\n",
      "C       106772.748886  66756   6511\n",
      "\n",
      " policy type Root Mean Squared error: 90062.20289186326\n",
      "\n",
      "                        mean median  count\n",
      "                        cltv   cltv   cltv\n",
      "type_of_policy                            \n",
      "Gold            99378.112425  66180  16491\n",
      "Platinum        99813.593033  66744  38239\n",
      "Silver          92470.597867  65652  16783\n",
      "\n",
      " type_of_policy type Root Mean Squared error: 90207.99488615888\n",
      "\n"
     ]
    }
   ],
   "source": [
    "for col in cat_cols:\n",
    "    check_by_single_feature(col)"
   ]
  },
  {
   "cell_type": "code",
   "execution_count": 28,
   "id": "50d7a908",
   "metadata": {},
   "outputs": [
    {
     "data": {
      "text/plain": [
       "Index(['id', 'gender', 'area', 'qualification', 'income', 'marital_status',\n",
       "       'vintage', 'claim_amount', 'num_policies', 'policy', 'type_of_policy',\n",
       "       'cltv'],\n",
       "      dtype='object')"
      ]
     },
     "execution_count": 28,
     "metadata": {},
     "output_type": "execute_result"
    }
   ],
   "source": [
    "df_train.columns"
   ]
  },
  {
   "cell_type": "code",
   "execution_count": 29,
   "id": "7e48a3b3",
   "metadata": {},
   "outputs": [],
   "source": [
    "imp_cols=['area', 'gender','qualification', 'income', 'marital_status',\n",
    "          'vintage', 'num_policies', 'policy', 'type_of_policy','claim_amount']"
   ]
  },
  {
   "cell_type": "code",
   "execution_count": 30,
   "id": "771d0b42",
   "metadata": {},
   "outputs": [],
   "source": [
    "def process_df(df):\n",
    "    mapped_area={\n",
    "    'Rural':1,\n",
    "    'Urban':2\n",
    "    }\n",
    "    mapped_qualification={\n",
    "    'High School':2,\n",
    "    'Bachelor':3,\n",
    "    'Others':1\n",
    "    }\n",
    "    \n",
    "   \n",
    "    mapped_num_policies={\n",
    "    '1':0,\n",
    "    'More than 1':1,\n",
    "    }\n",
    "    mapped_income={\n",
    "    '<=2L':0,\n",
    "    '2L-5L':1,\n",
    "    '5L-10L':2,\n",
    "    'More than 10L':3\n",
    "    }\n",
    "    \n",
    "    df['income']=df['income'].map(mapped_income)\n",
    "    df['num_policies']=df['num_policies'].map(mapped_num_policies)\n",
    "    \n",
    "    df['qualification']=df['qualification'].map(mapped_qualification)\n",
    "    df['area']=df['area'].map(mapped_area)\n",
    "    df=df[imp_cols]\n",
    "    \n",
    "    return df"
   ]
  },
  {
   "cell_type": "code",
   "execution_count": 31,
   "id": "fa23797d",
   "metadata": {},
   "outputs": [],
   "source": [
    "X=process_df(df_train)\n",
    "X=pd.get_dummies(X)\n",
    "\n",
    "y=df_train['cltv']\n",
    "\n",
    "# splitting the dataset into train and test split\n",
    "X_train,X_test,y_train,y_test=train_test_split(X,y,random_state=22, test_size=0.2)"
   ]
  },
  {
   "cell_type": "markdown",
   "id": "bf21609c",
   "metadata": {},
   "source": [
    "# Using Linear regression "
   ]
  },
  {
   "cell_type": "code",
   "execution_count": 32,
   "id": "a62f5870",
   "metadata": {},
   "outputs": [],
   "source": [
    "linear_model=LinearRegression()"
   ]
  },
  {
   "cell_type": "code",
   "execution_count": 33,
   "id": "df02bb1d",
   "metadata": {},
   "outputs": [
    {
     "data": {
      "text/html": [
       "<style>#sk-container-id-2 {color: black;background-color: white;}#sk-container-id-2 pre{padding: 0;}#sk-container-id-2 div.sk-toggleable {background-color: white;}#sk-container-id-2 label.sk-toggleable__label {cursor: pointer;display: block;width: 100%;margin-bottom: 0;padding: 0.3em;box-sizing: border-box;text-align: center;}#sk-container-id-2 label.sk-toggleable__label-arrow:before {content: \"▸\";float: left;margin-right: 0.25em;color: #696969;}#sk-container-id-2 label.sk-toggleable__label-arrow:hover:before {color: black;}#sk-container-id-2 div.sk-estimator:hover label.sk-toggleable__label-arrow:before {color: black;}#sk-container-id-2 div.sk-toggleable__content {max-height: 0;max-width: 0;overflow: hidden;text-align: left;background-color: #f0f8ff;}#sk-container-id-2 div.sk-toggleable__content pre {margin: 0.2em;color: black;border-radius: 0.25em;background-color: #f0f8ff;}#sk-container-id-2 input.sk-toggleable__control:checked~div.sk-toggleable__content {max-height: 200px;max-width: 100%;overflow: auto;}#sk-container-id-2 input.sk-toggleable__control:checked~label.sk-toggleable__label-arrow:before {content: \"▾\";}#sk-container-id-2 div.sk-estimator input.sk-toggleable__control:checked~label.sk-toggleable__label {background-color: #d4ebff;}#sk-container-id-2 div.sk-label input.sk-toggleable__control:checked~label.sk-toggleable__label {background-color: #d4ebff;}#sk-container-id-2 input.sk-hidden--visually {border: 0;clip: rect(1px 1px 1px 1px);clip: rect(1px, 1px, 1px, 1px);height: 1px;margin: -1px;overflow: hidden;padding: 0;position: absolute;width: 1px;}#sk-container-id-2 div.sk-estimator {font-family: monospace;background-color: #f0f8ff;border: 1px dotted black;border-radius: 0.25em;box-sizing: border-box;margin-bottom: 0.5em;}#sk-container-id-2 div.sk-estimator:hover {background-color: #d4ebff;}#sk-container-id-2 div.sk-parallel-item::after {content: \"\";width: 100%;border-bottom: 1px solid gray;flex-grow: 1;}#sk-container-id-2 div.sk-label:hover label.sk-toggleable__label {background-color: #d4ebff;}#sk-container-id-2 div.sk-serial::before {content: \"\";position: absolute;border-left: 1px solid gray;box-sizing: border-box;top: 0;bottom: 0;left: 50%;z-index: 0;}#sk-container-id-2 div.sk-serial {display: flex;flex-direction: column;align-items: center;background-color: white;padding-right: 0.2em;padding-left: 0.2em;position: relative;}#sk-container-id-2 div.sk-item {position: relative;z-index: 1;}#sk-container-id-2 div.sk-parallel {display: flex;align-items: stretch;justify-content: center;background-color: white;position: relative;}#sk-container-id-2 div.sk-item::before, #sk-container-id-2 div.sk-parallel-item::before {content: \"\";position: absolute;border-left: 1px solid gray;box-sizing: border-box;top: 0;bottom: 0;left: 50%;z-index: -1;}#sk-container-id-2 div.sk-parallel-item {display: flex;flex-direction: column;z-index: 1;position: relative;background-color: white;}#sk-container-id-2 div.sk-parallel-item:first-child::after {align-self: flex-end;width: 50%;}#sk-container-id-2 div.sk-parallel-item:last-child::after {align-self: flex-start;width: 50%;}#sk-container-id-2 div.sk-parallel-item:only-child::after {width: 0;}#sk-container-id-2 div.sk-dashed-wrapped {border: 1px dashed gray;margin: 0 0.4em 0.5em 0.4em;box-sizing: border-box;padding-bottom: 0.4em;background-color: white;}#sk-container-id-2 div.sk-label label {font-family: monospace;font-weight: bold;display: inline-block;line-height: 1.2em;}#sk-container-id-2 div.sk-label-container {text-align: center;}#sk-container-id-2 div.sk-container {/* jupyter's `normalize.less` sets `[hidden] { display: none; }` but bootstrap.min.css set `[hidden] { display: none !important; }` so we also need the `!important` here to be able to override the default hidden behavior on the sphinx rendered scikit-learn.org. See: https://github.com/scikit-learn/scikit-learn/issues/21755 */display: inline-block !important;position: relative;}#sk-container-id-2 div.sk-text-repr-fallback {display: none;}</style><div id=\"sk-container-id-2\" class=\"sk-top-container\"><div class=\"sk-text-repr-fallback\"><pre>LinearRegression()</pre><b>In a Jupyter environment, please rerun this cell to show the HTML representation or trust the notebook. <br />On GitHub, the HTML representation is unable to render, please try loading this page with nbviewer.org.</b></div><div class=\"sk-container\" hidden><div class=\"sk-item\"><div class=\"sk-estimator sk-toggleable\"><input class=\"sk-toggleable__control sk-hidden--visually\" id=\"sk-estimator-id-2\" type=\"checkbox\" checked><label for=\"sk-estimator-id-2\" class=\"sk-toggleable__label sk-toggleable__label-arrow\">LinearRegression</label><div class=\"sk-toggleable__content\"><pre>LinearRegression()</pre></div></div></div></div></div>"
      ],
      "text/plain": [
       "LinearRegression()"
      ]
     },
     "execution_count": 33,
     "metadata": {},
     "output_type": "execute_result"
    }
   ],
   "source": [
    "linear_model.fit(X_train,y_train)"
   ]
  },
  {
   "cell_type": "code",
   "execution_count": 34,
   "id": "92a772c3",
   "metadata": {},
   "outputs": [],
   "source": [
    "y_pred=linear_model.predict(X_test)"
   ]
  },
  {
   "cell_type": "code",
   "execution_count": 35,
   "id": "d0241fbd",
   "metadata": {},
   "outputs": [
    {
     "data": {
      "text/plain": [
       "0.14950573868473715"
      ]
     },
     "execution_count": 35,
     "metadata": {},
     "output_type": "execute_result"
    }
   ],
   "source": [
    "r2_score(y_test,y_pred)"
   ]
  },
  {
   "cell_type": "code",
   "execution_count": 36,
   "id": "e6fb2bf0",
   "metadata": {},
   "outputs": [],
   "source": [
    "df_test=pd.read_csv('test_koRSKBP.csv')\n",
    "X_test=process_df(df_test)\n",
    "X_test=pd.get_dummies(X_test)\n",
    "y_pred=linear_model.predict(X_test)"
   ]
  },
  {
   "cell_type": "code",
   "execution_count": 37,
   "id": "16a23d86",
   "metadata": {},
   "outputs": [],
   "source": [
    "df_test['cltv']=y_pred"
   ]
  },
  {
   "cell_type": "code",
   "execution_count": 38,
   "id": "f90640ef",
   "metadata": {},
   "outputs": [],
   "source": [
    "df_sub=df_test[['id','cltv']]\n",
    "df_sub.to_csv('linear_regression_final.csv',index=False)"
   ]
  },
  {
   "cell_type": "code",
   "execution_count": null,
   "id": "42aa13ef",
   "metadata": {},
   "outputs": [],
   "source": []
  }
 ],
 "metadata": {
  "kernelspec": {
   "display_name": "Python 3 (ipykernel)",
   "language": "python",
   "name": "python3"
  },
  "language_info": {
   "codemirror_mode": {
    "name": "ipython",
    "version": 3
   },
   "file_extension": ".py",
   "mimetype": "text/x-python",
   "name": "python",
   "nbconvert_exporter": "python",
   "pygments_lexer": "ipython3",
   "version": "3.9.7"
  }
 },
 "nbformat": 4,
 "nbformat_minor": 5
}
